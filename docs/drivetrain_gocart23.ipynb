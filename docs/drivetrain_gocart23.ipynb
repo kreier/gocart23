{
  "nbformat": 4,
  "nbformat_minor": 0,
  "metadata": {
    "colab": {
      "provenance": []
    },
    "kernelspec": {
      "name": "python3",
      "display_name": "Python 3"
    },
    "language_info": {
      "name": "python"
    }
  },
  "cells": [
    {
      "cell_type": "markdown",
      "source": [
        "# Gocart 2023 - a student project\n",
        "\n",
        "Let's build an electric go cart!"
      ],
      "metadata": {
        "id": "E22SEbZRVVa6"
      }
    },
    {
      "cell_type": "code",
      "execution_count": 1,
      "metadata": {
        "colab": {
          "base_uri": "https://localhost:8080/"
        },
        "id": "RzR9SzzRUqht",
        "outputId": "ddb58d61-35a6-4ee1-b2ad-5483c453636e"
      },
      "outputs": [
        {
          "output_type": "stream",
          "name": "stdout",
          "text": [
            "The gocart rpm on the axle is 88.5 rpm.\n"
          ]
        }
      ],
      "source": [
        "cim_rpm = 2655                   # with 337 Watt\n",
        "stage1 = 12 / 60\n",
        "stage2 = 14 / 84\n",
        "output = 2655 * stage1 * stage2  # should be 96 rpm for 1 m/s\n",
        "\n",
        "print(f\"The gocart rpm on the axle is {output} rpm.\")"
      ]
    }
  ]
}